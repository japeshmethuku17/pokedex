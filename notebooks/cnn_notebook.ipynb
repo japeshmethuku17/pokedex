{
  "nbformat": 4,
  "nbformat_minor": 0,
  "metadata": {
    "colab": {
      "name": "Xception_model_notebook_pokemon",
      "provenance": [],
      "collapsed_sections": []
    },
    "kernelspec": {
      "name": "python3",
      "display_name": "Python 3"
    },
    "accelerator": "GPU"
  },
  "cells": [
    {
      "cell_type": "markdown",
      "metadata": {
        "id": "SsJE8TvhGtcp"
      },
      "source": [
        "## **Import libraries and packages**"
      ]
    },
    {
      "cell_type": "code",
      "metadata": {
        "id": "At1vu_U73uBx"
      },
      "source": [
        "# %tensorflow_version 2.x\n",
        "\n",
        "# import tensorflow and tensorflow.keras\n",
        "import tensorflow as tf\n",
        "from tensorflow import keras\n",
        "from tensorflow.keras import backend as K\n",
        "\n",
        "# import ImageDataGenerator and the related functions required for processing images\n",
        "from tensorflow.keras.preprocessing.image import ImageDataGenerator, img_to_array, load_img\n",
        "from tensorflow.keras.layers import Input, Dense, Dropout, BatchNormalization, GlobalAveragePooling2D\n",
        "\n",
        "# import optimizers\n",
        "from tensorflow.keras.optimizers import SGD, Adam, Adagrad, Adadelta, RMSprop\n",
        "\n",
        "# import statements for building and loading the model\n",
        "from tensorflow.keras import models\n",
        "from tensorflow.keras.models import Sequential, Model, load_model\n",
        "from tensorflow.keras.models import model_from_json\n",
        "\n",
        "# import statements for callbacks\n",
        "from tensorflow.keras.callbacks import ReduceLROnPlateau, ModelCheckpoint, EarlyStopping\n",
        "\n",
        "# import statements for initlializers and regularizers\n",
        "from tensorflow.keras.initializers import glorot_uniform\n",
        "from tensorflow.keras.regularizers import l2\n",
        "\n",
        "# import statements for one-hot encoding, model plotting\n",
        "from tensorflow.keras.utils import to_categorical, plot_model\n",
        "\n",
        "# import statements for loading ResNet50 from keras\n",
        "from tensorflow.keras.applications import resnet50, xception\n",
        "#from tensorflow.keras.applications.resnet50 import ResNet50\n",
        "#from tensorflow.keras.applications.resnet50 import preprocess_input\n",
        "\n",
        "# import statements for scikit-learn\n",
        "import sklearn.metrics as metrics\n",
        "from sklearn.preprocessing import LabelBinarizer\n",
        "from sklearn.model_selection import train_test_split\n",
        "from sklearn.metrics import classification_report, accuracy_score, confusion_matrix\n",
        "\n",
        "from tensorflow.keras.layers.experimental import preprocessing\n",
        "\n",
        "# import scipy\n",
        "import scipy.misc\n",
        "\n",
        "# import os for file access\n",
        "import os \n",
        "\n",
        "# import glob\n",
        "import glob\n",
        "\n",
        "# import numpy, pandas\n",
        "import numpy as np\n",
        "import pandas as pd\n",
        "\n",
        "# import opencv\n",
        "import cv2\n",
        "\n",
        "# import matplotlib\n",
        "import matplotlib.pyplot as plt\n",
        "from matplotlib.pyplot import imshow\n",
        "\n",
        "# import zipfile for unzipping the data\n",
        "#import zipfile\n",
        "\n",
        "# import csv to access the csv files\n",
        "import csv\n",
        "\n",
        "# import drive to access the data from GDrive\n",
        "#from google.colab import drive\n",
        "\n",
        "# import seaborn\n",
        "import seaborn as sns\n",
        "\n",
        "# import time\n",
        "from time import time"
      ],
      "execution_count": 1,
      "outputs": []
    },
    {
      "cell_type": "code",
      "metadata": {
        "id": "yNbfzUtmTbco"
      },
      "source": [
        "pip freeze > requirement.txt"
      ],
      "execution_count": 2,
      "outputs": []
    },
    {
      "cell_type": "code",
      "metadata": {
        "id": "eD1QmYLWJZWc"
      },
      "source": [
        "from PIL import ImageFile\n",
        "ImageFile.LOAD_TRUNCATED_IMAGES = True"
      ],
      "execution_count": 6,
      "outputs": []
    },
    {
      "cell_type": "markdown",
      "metadata": {
        "id": "OMts3IveG21y"
      },
      "source": [
        "## **Load the dataset**"
      ]
    },
    {
      "cell_type": "code",
      "metadata": {
        "id": "KOtKhOhAvq6I",
        "colab": {
          "base_uri": "https://localhost:8080/"
        },
        "outputId": "74f86c77-5c35-437c-d004-fb0c8e1b8b1c"
      },
      "source": [
        "drive.mount('/content/drive')"
      ],
      "execution_count": 3,
      "outputs": [
        {
          "output_type": "stream",
          "text": [
            "Mounted at /content/drive\n"
          ],
          "name": "stdout"
        }
      ]
    },
    {
      "cell_type": "code",
      "metadata": {
        "id": "MVayiSEvSY1b"
      },
      "source": [
        "zip_ref = zipfile.ZipFile(\"/content/drive/MyDrive/dataset.zip\", 'r')\n",
        "zip_ref.extractall(\"/tmp\")\n",
        "zip_ref.close()"
      ],
      "execution_count": 7,
      "outputs": []
    },
    {
      "cell_type": "code",
      "metadata": {
        "id": "0slwNdMNSb4P"
      },
      "source": [
        "train_dir = '/tmp/selected/train/'\n",
        "val_dir = '/tmp/selected/validation/'\n",
        "#test_dir = '/tmp/ChIA Images_6/test/'"
      ],
      "execution_count": 8,
      "outputs": []
    },
    {
      "cell_type": "markdown",
      "metadata": {
        "id": "sKi2HCldG8Mb"
      },
      "source": [
        "## **Data Augmentation**"
      ]
    },
    {
      "cell_type": "code",
      "metadata": {
        "id": "0oEIjURHTVMX"
      },
      "source": [
        "training_batch_size = 16\n",
        "validation_batch_size = 16\n",
        "def get_images(img_size, preprocessing):\n",
        "\n",
        "  \n",
        "  train_datagen = ImageDataGenerator(rotation_range=20,\n",
        "                              horizontal_flip= True,\n",
        "                              height_shift_range=0.1,\n",
        "                              width_shift_range=0.1,\n",
        "                              shear_range=0.2,\n",
        "                              zoom_range=0.2,\n",
        "                              fill_mode=\"nearest\",\n",
        "                              #rescale=1./255,\n",
        "                              preprocessing_function = preprocessing)\n",
        "  \n",
        "  datagen = ImageDataGenerator(#rescale=1./255,\n",
        "                               preprocessing_function= preprocessing)\n",
        "  \n",
        "  train_datagen = train_datagen.flow_from_directory(train_dir,\n",
        "                                            batch_size= training_batch_size,\n",
        "                                            shuffle= True,\n",
        "                                            target_size = (img_size, img_size),\n",
        "                                            class_mode = 'categorical')\n",
        "  \n",
        "  val_datagen = datagen.flow_from_directory(val_dir,\n",
        "                                            batch_size= validation_batch_size,\n",
        "                                            shuffle= False,\n",
        "                                            target_size = (img_size, img_size),\n",
        "                                            class_mode = 'categorical')\n",
        "  \n",
        "  \n",
        "  \n",
        "  return train_datagen, val_datagen"
      ],
      "execution_count": 11,
      "outputs": []
    },
    {
      "cell_type": "code",
      "metadata": {
        "colab": {
          "base_uri": "https://localhost:8080/"
        },
        "id": "YAWT71kX--Pq",
        "outputId": "c3dce274-2c1f-499f-f28e-d4bf14664665"
      },
      "source": [
        "train_datagen, val_datagen = get_images(299, preprocessing= xception.preprocess_input)"
      ],
      "execution_count": 12,
      "outputs": [
        {
          "output_type": "stream",
          "text": [
            "Found 657 images belonging to 7 classes.\n",
            "Found 171 images belonging to 7 classes.\n"
          ],
          "name": "stdout"
        }
      ]
    },
    {
      "cell_type": "code",
      "metadata": {
        "id": "z8uQ_iJQpMMv"
      },
      "source": [
        "def visualize_training(history, epochs):\n",
        "  fig = plt.figure()\n",
        "  \n",
        "  #plt.subplot(1,2,1)\n",
        "  plt.plot(history.history['accuracy']);\n",
        "  plt.plot(history.history['val_accuracy'])\n",
        "  plt.title(\"Model Accuracy\")\n",
        "  plt.ylabel('accuracy')\n",
        "  plt.xlabel('epoch')\n",
        "  #plt.figsize()\n",
        "  label_1 = \"{:.2f}\".format(history.history['accuracy'][-1])\n",
        "  label_2 = \"{:.2f}\".format(history.history['val_accuracy'][-1])\n",
        "  plt.annotate(label_1, (epochs-1,history.history['accuracy'][-1]), textcoords=\"offset points\", \n",
        "               xytext=(0,10),ha='center')\n",
        "  plt.annotate(label_2, (epochs-1,history.history['val_accuracy'][-1]), textcoords=\"offset points\", \n",
        "               xytext=(0,10),ha='center')\n",
        "  plt.legend(['training', 'validation'], loc='upper left')\n",
        "\n",
        "  fig = plt.figure()\n",
        "\n",
        "  #plt.subplot(1,2,2)\n",
        "  plt.plot(history.history['loss']);\n",
        "  plt.plot(history.history['val_loss'])\n",
        "  plt.title(\"Model Loss\")\n",
        "  plt.ylabel('loss')\n",
        "  plt.xlabel('epoch')\n",
        "  label_3 = \"{:.2f}\".format(history.history['loss'][-1])\n",
        "  label_4 = \"{:.2f}\".format(history.history['val_loss'][-1])\n",
        "  plt.annotate(label_3, (epochs-1,history.history['loss'][-1]), textcoords=\"offset points\", \n",
        "               xytext=(0,10),ha='center')\n",
        "  plt.annotate(label_4, (epochs-1,history.history['val_loss'][-1]), textcoords=\"offset points\", \n",
        "               xytext=(0,10),ha='center')\n",
        "  plt.legend(['training', 'validation'], loc='upper left')\n",
        "\n",
        "  plt.show()"
      ],
      "execution_count": 13,
      "outputs": []
    },
    {
      "cell_type": "code",
      "metadata": {
        "id": "In2WtrreqQpd"
      },
      "source": [
        "def print_classification_report(model, data_gen, batch_size):\n",
        "  true_labels = data_gen.labels\n",
        "  data_gen.reset()\n",
        "  predicted_labels = model.predict(data_gen, steps = np.ceil(len(true_labels)/batch_size))\n",
        "  #print(list( np.argmax(a) for a in predicted_labels), true_labels)\n",
        "  print(classification_report(true_labels, list( np.argmax(a) for a in predicted_labels)))\n",
        "  print(\"Confusion Matrix:\\n \",confusion_matrix(true_labels,list( np.argmax(a) for a in predicted_labels)))"
      ],
      "execution_count": 14,
      "outputs": []
    },
    {
      "cell_type": "markdown",
      "metadata": {
        "id": "wak6fhrhHFLi"
      },
      "source": [
        "## **Build the model**"
      ]
    },
    {
      "cell_type": "code",
      "metadata": {
        "id": "JpL3tPxNHNxZ",
        "colab": {
          "base_uri": "https://localhost:8080/"
        },
        "outputId": "77c8de91-b69f-4b16-89a8-83294c70e805"
      },
      "source": [
        "xception_base = xception.Xception(weights='imagenet', include_top= False, input_shape= (299, 299, 3))"
      ],
      "execution_count": 15,
      "outputs": [
        {
          "output_type": "stream",
          "text": [
            "Downloading data from https://storage.googleapis.com/tensorflow/keras-applications/xception/xception_weights_tf_dim_ordering_tf_kernels_notop.h5\n",
            "83689472/83683744 [==============================] - 1s 0us/step\n"
          ],
          "name": "stdout"
        }
      ]
    },
    {
      "cell_type": "code",
      "metadata": {
        "colab": {
          "base_uri": "https://localhost:8080/"
        },
        "id": "6hcwT5ROKMYO",
        "outputId": "f7a436e8-95ba-4102-eaf0-270e97951792"
      },
      "source": [
        "xception_base.summary()"
      ],
      "execution_count": 16,
      "outputs": [
        {
          "output_type": "stream",
          "text": [
            "Model: \"xception\"\n",
            "__________________________________________________________________________________________________\n",
            "Layer (type)                    Output Shape         Param #     Connected to                     \n",
            "==================================================================================================\n",
            "input_1 (InputLayer)            [(None, 299, 299, 3) 0                                            \n",
            "__________________________________________________________________________________________________\n",
            "block1_conv1 (Conv2D)           (None, 149, 149, 32) 864         input_1[0][0]                    \n",
            "__________________________________________________________________________________________________\n",
            "block1_conv1_bn (BatchNormaliza (None, 149, 149, 32) 128         block1_conv1[0][0]               \n",
            "__________________________________________________________________________________________________\n",
            "block1_conv1_act (Activation)   (None, 149, 149, 32) 0           block1_conv1_bn[0][0]            \n",
            "__________________________________________________________________________________________________\n",
            "block1_conv2 (Conv2D)           (None, 147, 147, 64) 18432       block1_conv1_act[0][0]           \n",
            "__________________________________________________________________________________________________\n",
            "block1_conv2_bn (BatchNormaliza (None, 147, 147, 64) 256         block1_conv2[0][0]               \n",
            "__________________________________________________________________________________________________\n",
            "block1_conv2_act (Activation)   (None, 147, 147, 64) 0           block1_conv2_bn[0][0]            \n",
            "__________________________________________________________________________________________________\n",
            "block2_sepconv1 (SeparableConv2 (None, 147, 147, 128 8768        block1_conv2_act[0][0]           \n",
            "__________________________________________________________________________________________________\n",
            "block2_sepconv1_bn (BatchNormal (None, 147, 147, 128 512         block2_sepconv1[0][0]            \n",
            "__________________________________________________________________________________________________\n",
            "block2_sepconv2_act (Activation (None, 147, 147, 128 0           block2_sepconv1_bn[0][0]         \n",
            "__________________________________________________________________________________________________\n",
            "block2_sepconv2 (SeparableConv2 (None, 147, 147, 128 17536       block2_sepconv2_act[0][0]        \n",
            "__________________________________________________________________________________________________\n",
            "block2_sepconv2_bn (BatchNormal (None, 147, 147, 128 512         block2_sepconv2[0][0]            \n",
            "__________________________________________________________________________________________________\n",
            "conv2d (Conv2D)                 (None, 74, 74, 128)  8192        block1_conv2_act[0][0]           \n",
            "__________________________________________________________________________________________________\n",
            "block2_pool (MaxPooling2D)      (None, 74, 74, 128)  0           block2_sepconv2_bn[0][0]         \n",
            "__________________________________________________________________________________________________\n",
            "batch_normalization (BatchNorma (None, 74, 74, 128)  512         conv2d[0][0]                     \n",
            "__________________________________________________________________________________________________\n",
            "add (Add)                       (None, 74, 74, 128)  0           block2_pool[0][0]                \n",
            "                                                                 batch_normalization[0][0]        \n",
            "__________________________________________________________________________________________________\n",
            "block3_sepconv1_act (Activation (None, 74, 74, 128)  0           add[0][0]                        \n",
            "__________________________________________________________________________________________________\n",
            "block3_sepconv1 (SeparableConv2 (None, 74, 74, 256)  33920       block3_sepconv1_act[0][0]        \n",
            "__________________________________________________________________________________________________\n",
            "block3_sepconv1_bn (BatchNormal (None, 74, 74, 256)  1024        block3_sepconv1[0][0]            \n",
            "__________________________________________________________________________________________________\n",
            "block3_sepconv2_act (Activation (None, 74, 74, 256)  0           block3_sepconv1_bn[0][0]         \n",
            "__________________________________________________________________________________________________\n",
            "block3_sepconv2 (SeparableConv2 (None, 74, 74, 256)  67840       block3_sepconv2_act[0][0]        \n",
            "__________________________________________________________________________________________________\n",
            "block3_sepconv2_bn (BatchNormal (None, 74, 74, 256)  1024        block3_sepconv2[0][0]            \n",
            "__________________________________________________________________________________________________\n",
            "conv2d_1 (Conv2D)               (None, 37, 37, 256)  32768       add[0][0]                        \n",
            "__________________________________________________________________________________________________\n",
            "block3_pool (MaxPooling2D)      (None, 37, 37, 256)  0           block3_sepconv2_bn[0][0]         \n",
            "__________________________________________________________________________________________________\n",
            "batch_normalization_1 (BatchNor (None, 37, 37, 256)  1024        conv2d_1[0][0]                   \n",
            "__________________________________________________________________________________________________\n",
            "add_1 (Add)                     (None, 37, 37, 256)  0           block3_pool[0][0]                \n",
            "                                                                 batch_normalization_1[0][0]      \n",
            "__________________________________________________________________________________________________\n",
            "block4_sepconv1_act (Activation (None, 37, 37, 256)  0           add_1[0][0]                      \n",
            "__________________________________________________________________________________________________\n",
            "block4_sepconv1 (SeparableConv2 (None, 37, 37, 728)  188672      block4_sepconv1_act[0][0]        \n",
            "__________________________________________________________________________________________________\n",
            "block4_sepconv1_bn (BatchNormal (None, 37, 37, 728)  2912        block4_sepconv1[0][0]            \n",
            "__________________________________________________________________________________________________\n",
            "block4_sepconv2_act (Activation (None, 37, 37, 728)  0           block4_sepconv1_bn[0][0]         \n",
            "__________________________________________________________________________________________________\n",
            "block4_sepconv2 (SeparableConv2 (None, 37, 37, 728)  536536      block4_sepconv2_act[0][0]        \n",
            "__________________________________________________________________________________________________\n",
            "block4_sepconv2_bn (BatchNormal (None, 37, 37, 728)  2912        block4_sepconv2[0][0]            \n",
            "__________________________________________________________________________________________________\n",
            "conv2d_2 (Conv2D)               (None, 19, 19, 728)  186368      add_1[0][0]                      \n",
            "__________________________________________________________________________________________________\n",
            "block4_pool (MaxPooling2D)      (None, 19, 19, 728)  0           block4_sepconv2_bn[0][0]         \n",
            "__________________________________________________________________________________________________\n",
            "batch_normalization_2 (BatchNor (None, 19, 19, 728)  2912        conv2d_2[0][0]                   \n",
            "__________________________________________________________________________________________________\n",
            "add_2 (Add)                     (None, 19, 19, 728)  0           block4_pool[0][0]                \n",
            "                                                                 batch_normalization_2[0][0]      \n",
            "__________________________________________________________________________________________________\n",
            "block5_sepconv1_act (Activation (None, 19, 19, 728)  0           add_2[0][0]                      \n",
            "__________________________________________________________________________________________________\n",
            "block5_sepconv1 (SeparableConv2 (None, 19, 19, 728)  536536      block5_sepconv1_act[0][0]        \n",
            "__________________________________________________________________________________________________\n",
            "block5_sepconv1_bn (BatchNormal (None, 19, 19, 728)  2912        block5_sepconv1[0][0]            \n",
            "__________________________________________________________________________________________________\n",
            "block5_sepconv2_act (Activation (None, 19, 19, 728)  0           block5_sepconv1_bn[0][0]         \n",
            "__________________________________________________________________________________________________\n",
            "block5_sepconv2 (SeparableConv2 (None, 19, 19, 728)  536536      block5_sepconv2_act[0][0]        \n",
            "__________________________________________________________________________________________________\n",
            "block5_sepconv2_bn (BatchNormal (None, 19, 19, 728)  2912        block5_sepconv2[0][0]            \n",
            "__________________________________________________________________________________________________\n",
            "block5_sepconv3_act (Activation (None, 19, 19, 728)  0           block5_sepconv2_bn[0][0]         \n",
            "__________________________________________________________________________________________________\n",
            "block5_sepconv3 (SeparableConv2 (None, 19, 19, 728)  536536      block5_sepconv3_act[0][0]        \n",
            "__________________________________________________________________________________________________\n",
            "block5_sepconv3_bn (BatchNormal (None, 19, 19, 728)  2912        block5_sepconv3[0][0]            \n",
            "__________________________________________________________________________________________________\n",
            "add_3 (Add)                     (None, 19, 19, 728)  0           block5_sepconv3_bn[0][0]         \n",
            "                                                                 add_2[0][0]                      \n",
            "__________________________________________________________________________________________________\n",
            "block6_sepconv1_act (Activation (None, 19, 19, 728)  0           add_3[0][0]                      \n",
            "__________________________________________________________________________________________________\n",
            "block6_sepconv1 (SeparableConv2 (None, 19, 19, 728)  536536      block6_sepconv1_act[0][0]        \n",
            "__________________________________________________________________________________________________\n",
            "block6_sepconv1_bn (BatchNormal (None, 19, 19, 728)  2912        block6_sepconv1[0][0]            \n",
            "__________________________________________________________________________________________________\n",
            "block6_sepconv2_act (Activation (None, 19, 19, 728)  0           block6_sepconv1_bn[0][0]         \n",
            "__________________________________________________________________________________________________\n",
            "block6_sepconv2 (SeparableConv2 (None, 19, 19, 728)  536536      block6_sepconv2_act[0][0]        \n",
            "__________________________________________________________________________________________________\n",
            "block6_sepconv2_bn (BatchNormal (None, 19, 19, 728)  2912        block6_sepconv2[0][0]            \n",
            "__________________________________________________________________________________________________\n",
            "block6_sepconv3_act (Activation (None, 19, 19, 728)  0           block6_sepconv2_bn[0][0]         \n",
            "__________________________________________________________________________________________________\n",
            "block6_sepconv3 (SeparableConv2 (None, 19, 19, 728)  536536      block6_sepconv3_act[0][0]        \n",
            "__________________________________________________________________________________________________\n",
            "block6_sepconv3_bn (BatchNormal (None, 19, 19, 728)  2912        block6_sepconv3[0][0]            \n",
            "__________________________________________________________________________________________________\n",
            "add_4 (Add)                     (None, 19, 19, 728)  0           block6_sepconv3_bn[0][0]         \n",
            "                                                                 add_3[0][0]                      \n",
            "__________________________________________________________________________________________________\n",
            "block7_sepconv1_act (Activation (None, 19, 19, 728)  0           add_4[0][0]                      \n",
            "__________________________________________________________________________________________________\n",
            "block7_sepconv1 (SeparableConv2 (None, 19, 19, 728)  536536      block7_sepconv1_act[0][0]        \n",
            "__________________________________________________________________________________________________\n",
            "block7_sepconv1_bn (BatchNormal (None, 19, 19, 728)  2912        block7_sepconv1[0][0]            \n",
            "__________________________________________________________________________________________________\n",
            "block7_sepconv2_act (Activation (None, 19, 19, 728)  0           block7_sepconv1_bn[0][0]         \n",
            "__________________________________________________________________________________________________\n",
            "block7_sepconv2 (SeparableConv2 (None, 19, 19, 728)  536536      block7_sepconv2_act[0][0]        \n",
            "__________________________________________________________________________________________________\n",
            "block7_sepconv2_bn (BatchNormal (None, 19, 19, 728)  2912        block7_sepconv2[0][0]            \n",
            "__________________________________________________________________________________________________\n",
            "block7_sepconv3_act (Activation (None, 19, 19, 728)  0           block7_sepconv2_bn[0][0]         \n",
            "__________________________________________________________________________________________________\n",
            "block7_sepconv3 (SeparableConv2 (None, 19, 19, 728)  536536      block7_sepconv3_act[0][0]        \n",
            "__________________________________________________________________________________________________\n",
            "block7_sepconv3_bn (BatchNormal (None, 19, 19, 728)  2912        block7_sepconv3[0][0]            \n",
            "__________________________________________________________________________________________________\n",
            "add_5 (Add)                     (None, 19, 19, 728)  0           block7_sepconv3_bn[0][0]         \n",
            "                                                                 add_4[0][0]                      \n",
            "__________________________________________________________________________________________________\n",
            "block8_sepconv1_act (Activation (None, 19, 19, 728)  0           add_5[0][0]                      \n",
            "__________________________________________________________________________________________________\n",
            "block8_sepconv1 (SeparableConv2 (None, 19, 19, 728)  536536      block8_sepconv1_act[0][0]        \n",
            "__________________________________________________________________________________________________\n",
            "block8_sepconv1_bn (BatchNormal (None, 19, 19, 728)  2912        block8_sepconv1[0][0]            \n",
            "__________________________________________________________________________________________________\n",
            "block8_sepconv2_act (Activation (None, 19, 19, 728)  0           block8_sepconv1_bn[0][0]         \n",
            "__________________________________________________________________________________________________\n",
            "block8_sepconv2 (SeparableConv2 (None, 19, 19, 728)  536536      block8_sepconv2_act[0][0]        \n",
            "__________________________________________________________________________________________________\n",
            "block8_sepconv2_bn (BatchNormal (None, 19, 19, 728)  2912        block8_sepconv2[0][0]            \n",
            "__________________________________________________________________________________________________\n",
            "block8_sepconv3_act (Activation (None, 19, 19, 728)  0           block8_sepconv2_bn[0][0]         \n",
            "__________________________________________________________________________________________________\n",
            "block8_sepconv3 (SeparableConv2 (None, 19, 19, 728)  536536      block8_sepconv3_act[0][0]        \n",
            "__________________________________________________________________________________________________\n",
            "block8_sepconv3_bn (BatchNormal (None, 19, 19, 728)  2912        block8_sepconv3[0][0]            \n",
            "__________________________________________________________________________________________________\n",
            "add_6 (Add)                     (None, 19, 19, 728)  0           block8_sepconv3_bn[0][0]         \n",
            "                                                                 add_5[0][0]                      \n",
            "__________________________________________________________________________________________________\n",
            "block9_sepconv1_act (Activation (None, 19, 19, 728)  0           add_6[0][0]                      \n",
            "__________________________________________________________________________________________________\n",
            "block9_sepconv1 (SeparableConv2 (None, 19, 19, 728)  536536      block9_sepconv1_act[0][0]        \n",
            "__________________________________________________________________________________________________\n",
            "block9_sepconv1_bn (BatchNormal (None, 19, 19, 728)  2912        block9_sepconv1[0][0]            \n",
            "__________________________________________________________________________________________________\n",
            "block9_sepconv2_act (Activation (None, 19, 19, 728)  0           block9_sepconv1_bn[0][0]         \n",
            "__________________________________________________________________________________________________\n",
            "block9_sepconv2 (SeparableConv2 (None, 19, 19, 728)  536536      block9_sepconv2_act[0][0]        \n",
            "__________________________________________________________________________________________________\n",
            "block9_sepconv2_bn (BatchNormal (None, 19, 19, 728)  2912        block9_sepconv2[0][0]            \n",
            "__________________________________________________________________________________________________\n",
            "block9_sepconv3_act (Activation (None, 19, 19, 728)  0           block9_sepconv2_bn[0][0]         \n",
            "__________________________________________________________________________________________________\n",
            "block9_sepconv3 (SeparableConv2 (None, 19, 19, 728)  536536      block9_sepconv3_act[0][0]        \n",
            "__________________________________________________________________________________________________\n",
            "block9_sepconv3_bn (BatchNormal (None, 19, 19, 728)  2912        block9_sepconv3[0][0]            \n",
            "__________________________________________________________________________________________________\n",
            "add_7 (Add)                     (None, 19, 19, 728)  0           block9_sepconv3_bn[0][0]         \n",
            "                                                                 add_6[0][0]                      \n",
            "__________________________________________________________________________________________________\n",
            "block10_sepconv1_act (Activatio (None, 19, 19, 728)  0           add_7[0][0]                      \n",
            "__________________________________________________________________________________________________\n",
            "block10_sepconv1 (SeparableConv (None, 19, 19, 728)  536536      block10_sepconv1_act[0][0]       \n",
            "__________________________________________________________________________________________________\n",
            "block10_sepconv1_bn (BatchNorma (None, 19, 19, 728)  2912        block10_sepconv1[0][0]           \n",
            "__________________________________________________________________________________________________\n",
            "block10_sepconv2_act (Activatio (None, 19, 19, 728)  0           block10_sepconv1_bn[0][0]        \n",
            "__________________________________________________________________________________________________\n",
            "block10_sepconv2 (SeparableConv (None, 19, 19, 728)  536536      block10_sepconv2_act[0][0]       \n",
            "__________________________________________________________________________________________________\n",
            "block10_sepconv2_bn (BatchNorma (None, 19, 19, 728)  2912        block10_sepconv2[0][0]           \n",
            "__________________________________________________________________________________________________\n",
            "block10_sepconv3_act (Activatio (None, 19, 19, 728)  0           block10_sepconv2_bn[0][0]        \n",
            "__________________________________________________________________________________________________\n",
            "block10_sepconv3 (SeparableConv (None, 19, 19, 728)  536536      block10_sepconv3_act[0][0]       \n",
            "__________________________________________________________________________________________________\n",
            "block10_sepconv3_bn (BatchNorma (None, 19, 19, 728)  2912        block10_sepconv3[0][0]           \n",
            "__________________________________________________________________________________________________\n",
            "add_8 (Add)                     (None, 19, 19, 728)  0           block10_sepconv3_bn[0][0]        \n",
            "                                                                 add_7[0][0]                      \n",
            "__________________________________________________________________________________________________\n",
            "block11_sepconv1_act (Activatio (None, 19, 19, 728)  0           add_8[0][0]                      \n",
            "__________________________________________________________________________________________________\n",
            "block11_sepconv1 (SeparableConv (None, 19, 19, 728)  536536      block11_sepconv1_act[0][0]       \n",
            "__________________________________________________________________________________________________\n",
            "block11_sepconv1_bn (BatchNorma (None, 19, 19, 728)  2912        block11_sepconv1[0][0]           \n",
            "__________________________________________________________________________________________________\n",
            "block11_sepconv2_act (Activatio (None, 19, 19, 728)  0           block11_sepconv1_bn[0][0]        \n",
            "__________________________________________________________________________________________________\n",
            "block11_sepconv2 (SeparableConv (None, 19, 19, 728)  536536      block11_sepconv2_act[0][0]       \n",
            "__________________________________________________________________________________________________\n",
            "block11_sepconv2_bn (BatchNorma (None, 19, 19, 728)  2912        block11_sepconv2[0][0]           \n",
            "__________________________________________________________________________________________________\n",
            "block11_sepconv3_act (Activatio (None, 19, 19, 728)  0           block11_sepconv2_bn[0][0]        \n",
            "__________________________________________________________________________________________________\n",
            "block11_sepconv3 (SeparableConv (None, 19, 19, 728)  536536      block11_sepconv3_act[0][0]       \n",
            "__________________________________________________________________________________________________\n",
            "block11_sepconv3_bn (BatchNorma (None, 19, 19, 728)  2912        block11_sepconv3[0][0]           \n",
            "__________________________________________________________________________________________________\n",
            "add_9 (Add)                     (None, 19, 19, 728)  0           block11_sepconv3_bn[0][0]        \n",
            "                                                                 add_8[0][0]                      \n",
            "__________________________________________________________________________________________________\n",
            "block12_sepconv1_act (Activatio (None, 19, 19, 728)  0           add_9[0][0]                      \n",
            "__________________________________________________________________________________________________\n",
            "block12_sepconv1 (SeparableConv (None, 19, 19, 728)  536536      block12_sepconv1_act[0][0]       \n",
            "__________________________________________________________________________________________________\n",
            "block12_sepconv1_bn (BatchNorma (None, 19, 19, 728)  2912        block12_sepconv1[0][0]           \n",
            "__________________________________________________________________________________________________\n",
            "block12_sepconv2_act (Activatio (None, 19, 19, 728)  0           block12_sepconv1_bn[0][0]        \n",
            "__________________________________________________________________________________________________\n",
            "block12_sepconv2 (SeparableConv (None, 19, 19, 728)  536536      block12_sepconv2_act[0][0]       \n",
            "__________________________________________________________________________________________________\n",
            "block12_sepconv2_bn (BatchNorma (None, 19, 19, 728)  2912        block12_sepconv2[0][0]           \n",
            "__________________________________________________________________________________________________\n",
            "block12_sepconv3_act (Activatio (None, 19, 19, 728)  0           block12_sepconv2_bn[0][0]        \n",
            "__________________________________________________________________________________________________\n",
            "block12_sepconv3 (SeparableConv (None, 19, 19, 728)  536536      block12_sepconv3_act[0][0]       \n",
            "__________________________________________________________________________________________________\n",
            "block12_sepconv3_bn (BatchNorma (None, 19, 19, 728)  2912        block12_sepconv3[0][0]           \n",
            "__________________________________________________________________________________________________\n",
            "add_10 (Add)                    (None, 19, 19, 728)  0           block12_sepconv3_bn[0][0]        \n",
            "                                                                 add_9[0][0]                      \n",
            "__________________________________________________________________________________________________\n",
            "block13_sepconv1_act (Activatio (None, 19, 19, 728)  0           add_10[0][0]                     \n",
            "__________________________________________________________________________________________________\n",
            "block13_sepconv1 (SeparableConv (None, 19, 19, 728)  536536      block13_sepconv1_act[0][0]       \n",
            "__________________________________________________________________________________________________\n",
            "block13_sepconv1_bn (BatchNorma (None, 19, 19, 728)  2912        block13_sepconv1[0][0]           \n",
            "__________________________________________________________________________________________________\n",
            "block13_sepconv2_act (Activatio (None, 19, 19, 728)  0           block13_sepconv1_bn[0][0]        \n",
            "__________________________________________________________________________________________________\n",
            "block13_sepconv2 (SeparableConv (None, 19, 19, 1024) 752024      block13_sepconv2_act[0][0]       \n",
            "__________________________________________________________________________________________________\n",
            "block13_sepconv2_bn (BatchNorma (None, 19, 19, 1024) 4096        block13_sepconv2[0][0]           \n",
            "__________________________________________________________________________________________________\n",
            "conv2d_3 (Conv2D)               (None, 10, 10, 1024) 745472      add_10[0][0]                     \n",
            "__________________________________________________________________________________________________\n",
            "block13_pool (MaxPooling2D)     (None, 10, 10, 1024) 0           block13_sepconv2_bn[0][0]        \n",
            "__________________________________________________________________________________________________\n",
            "batch_normalization_3 (BatchNor (None, 10, 10, 1024) 4096        conv2d_3[0][0]                   \n",
            "__________________________________________________________________________________________________\n",
            "add_11 (Add)                    (None, 10, 10, 1024) 0           block13_pool[0][0]               \n",
            "                                                                 batch_normalization_3[0][0]      \n",
            "__________________________________________________________________________________________________\n",
            "block14_sepconv1 (SeparableConv (None, 10, 10, 1536) 1582080     add_11[0][0]                     \n",
            "__________________________________________________________________________________________________\n",
            "block14_sepconv1_bn (BatchNorma (None, 10, 10, 1536) 6144        block14_sepconv1[0][0]           \n",
            "__________________________________________________________________________________________________\n",
            "block14_sepconv1_act (Activatio (None, 10, 10, 1536) 0           block14_sepconv1_bn[0][0]        \n",
            "__________________________________________________________________________________________________\n",
            "block14_sepconv2 (SeparableConv (None, 10, 10, 2048) 3159552     block14_sepconv1_act[0][0]       \n",
            "__________________________________________________________________________________________________\n",
            "block14_sepconv2_bn (BatchNorma (None, 10, 10, 2048) 8192        block14_sepconv2[0][0]           \n",
            "__________________________________________________________________________________________________\n",
            "block14_sepconv2_act (Activatio (None, 10, 10, 2048) 0           block14_sepconv2_bn[0][0]        \n",
            "==================================================================================================\n",
            "Total params: 20,861,480\n",
            "Trainable params: 20,806,952\n",
            "Non-trainable params: 54,528\n",
            "__________________________________________________________________________________________________\n"
          ],
          "name": "stdout"
        }
      ]
    },
    {
      "cell_type": "code",
      "metadata": {
        "colab": {
          "base_uri": "https://localhost:8080/"
        },
        "id": "8Q6ZQJpFKSjy",
        "outputId": "7d5d42bb-32d8-4bb4-c782-ab85d986a77f"
      },
      "source": [
        "model = models.Sequential()\n",
        "model.add(xception_base)\n",
        "model.add(keras.layers.GlobalAveragePooling2D())\n",
        "model.add(keras.layers.Dropout(0.3))\n",
        "model.add(keras.layers.Dense(512, activation='relu'))\n",
        "# model.add(keras.layers.Dropout(0.4))\n",
        "# model.add(keras.layers.Dense(512, activation='relu'))\n",
        "# model.add(keras.layers.BatchNormalization())\n",
        "model.add(keras.layers.Dropout(0.4))\n",
        "model.add(keras.layers.Dense(256, activation='relu'))\n",
        "model.add(keras.layers.Dense(7, activation= 'softmax'))\n",
        "model.summary()"
      ],
      "execution_count": 17,
      "outputs": [
        {
          "output_type": "stream",
          "text": [
            "Model: \"sequential\"\n",
            "_________________________________________________________________\n",
            "Layer (type)                 Output Shape              Param #   \n",
            "=================================================================\n",
            "xception (Functional)        (None, 10, 10, 2048)      20861480  \n",
            "_________________________________________________________________\n",
            "global_average_pooling2d (Gl (None, 2048)              0         \n",
            "_________________________________________________________________\n",
            "dropout (Dropout)            (None, 2048)              0         \n",
            "_________________________________________________________________\n",
            "dense (Dense)                (None, 512)               1049088   \n",
            "_________________________________________________________________\n",
            "dropout_1 (Dropout)          (None, 512)               0         \n",
            "_________________________________________________________________\n",
            "dense_1 (Dense)              (None, 256)               131328    \n",
            "_________________________________________________________________\n",
            "dense_2 (Dense)              (None, 7)                 1799      \n",
            "=================================================================\n",
            "Total params: 22,043,695\n",
            "Trainable params: 21,989,167\n",
            "Non-trainable params: 54,528\n",
            "_________________________________________________________________\n"
          ],
          "name": "stdout"
        }
      ]
    },
    {
      "cell_type": "code",
      "metadata": {
        "id": "Nx_ch2EnL3go"
      },
      "source": [
        "xception_base.trainable = False\n",
        "xception_base.training = False"
      ],
      "execution_count": 18,
      "outputs": []
    },
    {
      "cell_type": "code",
      "metadata": {
        "colab": {
          "base_uri": "https://localhost:8080/"
        },
        "id": "4--vz1RpL6vc",
        "outputId": "0dbf21f3-5c0d-4334-dfa5-b2cc5f00ff92"
      },
      "source": [
        "model.summary()"
      ],
      "execution_count": 19,
      "outputs": [
        {
          "output_type": "stream",
          "text": [
            "Model: \"sequential\"\n",
            "_________________________________________________________________\n",
            "Layer (type)                 Output Shape              Param #   \n",
            "=================================================================\n",
            "xception (Functional)        (None, 10, 10, 2048)      20861480  \n",
            "_________________________________________________________________\n",
            "global_average_pooling2d (Gl (None, 2048)              0         \n",
            "_________________________________________________________________\n",
            "dropout (Dropout)            (None, 2048)              0         \n",
            "_________________________________________________________________\n",
            "dense (Dense)                (None, 512)               1049088   \n",
            "_________________________________________________________________\n",
            "dropout_1 (Dropout)          (None, 512)               0         \n",
            "_________________________________________________________________\n",
            "dense_1 (Dense)              (None, 256)               131328    \n",
            "_________________________________________________________________\n",
            "dense_2 (Dense)              (None, 7)                 1799      \n",
            "=================================================================\n",
            "Total params: 22,043,695\n",
            "Trainable params: 1,182,215\n",
            "Non-trainable params: 20,861,480\n",
            "_________________________________________________________________\n"
          ],
          "name": "stdout"
        }
      ]
    },
    {
      "cell_type": "markdown",
      "metadata": {
        "id": "M1WM8nzpHOVt"
      },
      "source": [
        "## **Compile the model**"
      ]
    },
    {
      "cell_type": "code",
      "metadata": {
        "id": "Bx-PL-65L-Co"
      },
      "source": [
        "lr = 1e-3\n",
        "model.compile(optimizer=keras.optimizers.RMSprop(learning_rate=lr), loss='categorical_crossentropy', metrics=['accuracy'])"
      ],
      "execution_count": 20,
      "outputs": []
    },
    {
      "cell_type": "code",
      "metadata": {
        "id": "JE3eqVJIMIi3"
      },
      "source": [
        "callbacks_list = [keras.callbacks.ModelCheckpoint(\n",
        "        filepath = '/content/xception-model.h5',\n",
        "        monitor = 'val_accuracy',\n",
        "        verbose=1,\n",
        "        save_best_only = True),\n",
        "        keras.callbacks.EarlyStopping(\n",
        "            monitor= 'val_accuracy',\n",
        "            patience = 6,\n",
        "            mode = 'max',\n",
        "            verbose= 1\n",
        "        )]"
      ],
      "execution_count": 21,
      "outputs": []
    },
    {
      "cell_type": "markdown",
      "metadata": {
        "id": "ncjMo35kHU3G"
      },
      "source": [
        "## **Train the model**"
      ]
    },
    {
      "cell_type": "code",
      "metadata": {
        "colab": {
          "base_uri": "https://localhost:8080/"
        },
        "id": "x4X3vUevMO-_",
        "outputId": "70e4abec-c87f-4534-bd23-33365b1d9f48"
      },
      "source": [
        "n_epochs = 2\n",
        "history = model.fit(train_datagen,\n",
        "                             steps_per_epoch=len(train_datagen.filenames)//training_batch_size,\n",
        "                             epochs=n_epochs,\n",
        "                             validation_data=val_datagen,\n",
        "                             validation_steps = int(np.ceil(len(val_datagen.filenames)/validation_batch_size)),\n",
        "                             callbacks=callbacks_list,\n",
        "                             verbose=1)"
      ],
      "execution_count": 22,
      "outputs": [
        {
          "output_type": "stream",
          "text": [
            "/usr/local/lib/python3.7/dist-packages/PIL/Image.py:960: UserWarning: Palette images with Transparency expressed in bytes should be converted to RGBA images\n",
            "  \"Palette images with Transparency expressed in bytes should be \"\n"
          ],
          "name": "stderr"
        },
        {
          "output_type": "stream",
          "text": [
            "Epoch 1/2\n",
            "41/41 [==============================] - 62s 684ms/step - loss: 1.8014 - accuracy: 0.3607 - val_loss: 0.7320 - val_accuracy: 0.7661\n",
            "\n",
            "Epoch 00001: val_accuracy improved from -inf to 0.76608, saving model to /content/xception-model.h5\n",
            "Epoch 2/2\n",
            "41/41 [==============================] - 26s 640ms/step - loss: 0.7255 - accuracy: 0.7499 - val_loss: 0.6223 - val_accuracy: 0.8304\n",
            "\n",
            "Epoch 00002: val_accuracy improved from 0.76608 to 0.83041, saving model to /content/xception-model.h5\n"
          ],
          "name": "stdout"
        }
      ]
    },
    {
      "cell_type": "markdown",
      "metadata": {
        "id": "Ipig1FSjX0pi"
      },
      "source": [
        "## **Fine tune the model**"
      ]
    },
    {
      "cell_type": "code",
      "metadata": {
        "id": "zMcWk8iLXzjk"
      },
      "source": [
        "xception_base.trainable = True\n",
        "set_trainable = False\n",
        "for layer in xception_base.layers[:126]:\n",
        "  set_trainable = False\n",
        "  if set_trainable:\n",
        "    layer.trainable = True\n",
        "  else:\n",
        "    layer.trainable= False"
      ],
      "execution_count": 24,
      "outputs": []
    },
    {
      "cell_type": "code",
      "metadata": {
        "id": "fbEe1k5LYS9t"
      },
      "source": [
        "for layer in xception_base.layers[126:]:\n",
        "  if isinstance(layer, keras.layers.BatchNormalization):\n",
        "    layer.trainable = False"
      ],
      "execution_count": 25,
      "outputs": []
    },
    {
      "cell_type": "code",
      "metadata": {
        "colab": {
          "base_uri": "https://localhost:8080/"
        },
        "id": "3q3WGT-0YcNQ",
        "outputId": "fb4226c6-45fa-41ec-9ecb-9656cd00f4d9"
      },
      "source": [
        "for i, layer in enumerate(xception_base.layers):\n",
        "  print(i, layer.name, layer.trainable)"
      ],
      "execution_count": 26,
      "outputs": [
        {
          "output_type": "stream",
          "text": [
            "0 input_1 False\n",
            "1 block1_conv1 False\n",
            "2 block1_conv1_bn False\n",
            "3 block1_conv1_act False\n",
            "4 block1_conv2 False\n",
            "5 block1_conv2_bn False\n",
            "6 block1_conv2_act False\n",
            "7 block2_sepconv1 False\n",
            "8 block2_sepconv1_bn False\n",
            "9 block2_sepconv2_act False\n",
            "10 block2_sepconv2 False\n",
            "11 block2_sepconv2_bn False\n",
            "12 conv2d False\n",
            "13 block2_pool False\n",
            "14 batch_normalization False\n",
            "15 add False\n",
            "16 block3_sepconv1_act False\n",
            "17 block3_sepconv1 False\n",
            "18 block3_sepconv1_bn False\n",
            "19 block3_sepconv2_act False\n",
            "20 block3_sepconv2 False\n",
            "21 block3_sepconv2_bn False\n",
            "22 conv2d_1 False\n",
            "23 block3_pool False\n",
            "24 batch_normalization_1 False\n",
            "25 add_1 False\n",
            "26 block4_sepconv1_act False\n",
            "27 block4_sepconv1 False\n",
            "28 block4_sepconv1_bn False\n",
            "29 block4_sepconv2_act False\n",
            "30 block4_sepconv2 False\n",
            "31 block4_sepconv2_bn False\n",
            "32 conv2d_2 False\n",
            "33 block4_pool False\n",
            "34 batch_normalization_2 False\n",
            "35 add_2 False\n",
            "36 block5_sepconv1_act False\n",
            "37 block5_sepconv1 False\n",
            "38 block5_sepconv1_bn False\n",
            "39 block5_sepconv2_act False\n",
            "40 block5_sepconv2 False\n",
            "41 block5_sepconv2_bn False\n",
            "42 block5_sepconv3_act False\n",
            "43 block5_sepconv3 False\n",
            "44 block5_sepconv3_bn False\n",
            "45 add_3 False\n",
            "46 block6_sepconv1_act False\n",
            "47 block6_sepconv1 False\n",
            "48 block6_sepconv1_bn False\n",
            "49 block6_sepconv2_act False\n",
            "50 block6_sepconv2 False\n",
            "51 block6_sepconv2_bn False\n",
            "52 block6_sepconv3_act False\n",
            "53 block6_sepconv3 False\n",
            "54 block6_sepconv3_bn False\n",
            "55 add_4 False\n",
            "56 block7_sepconv1_act False\n",
            "57 block7_sepconv1 False\n",
            "58 block7_sepconv1_bn False\n",
            "59 block7_sepconv2_act False\n",
            "60 block7_sepconv2 False\n",
            "61 block7_sepconv2_bn False\n",
            "62 block7_sepconv3_act False\n",
            "63 block7_sepconv3 False\n",
            "64 block7_sepconv3_bn False\n",
            "65 add_5 False\n",
            "66 block8_sepconv1_act False\n",
            "67 block8_sepconv1 False\n",
            "68 block8_sepconv1_bn False\n",
            "69 block8_sepconv2_act False\n",
            "70 block8_sepconv2 False\n",
            "71 block8_sepconv2_bn False\n",
            "72 block8_sepconv3_act False\n",
            "73 block8_sepconv3 False\n",
            "74 block8_sepconv3_bn False\n",
            "75 add_6 False\n",
            "76 block9_sepconv1_act False\n",
            "77 block9_sepconv1 False\n",
            "78 block9_sepconv1_bn False\n",
            "79 block9_sepconv2_act False\n",
            "80 block9_sepconv2 False\n",
            "81 block9_sepconv2_bn False\n",
            "82 block9_sepconv3_act False\n",
            "83 block9_sepconv3 False\n",
            "84 block9_sepconv3_bn False\n",
            "85 add_7 False\n",
            "86 block10_sepconv1_act False\n",
            "87 block10_sepconv1 False\n",
            "88 block10_sepconv1_bn False\n",
            "89 block10_sepconv2_act False\n",
            "90 block10_sepconv2 False\n",
            "91 block10_sepconv2_bn False\n",
            "92 block10_sepconv3_act False\n",
            "93 block10_sepconv3 False\n",
            "94 block10_sepconv3_bn False\n",
            "95 add_8 False\n",
            "96 block11_sepconv1_act False\n",
            "97 block11_sepconv1 False\n",
            "98 block11_sepconv1_bn False\n",
            "99 block11_sepconv2_act False\n",
            "100 block11_sepconv2 False\n",
            "101 block11_sepconv2_bn False\n",
            "102 block11_sepconv3_act False\n",
            "103 block11_sepconv3 False\n",
            "104 block11_sepconv3_bn False\n",
            "105 add_9 False\n",
            "106 block12_sepconv1_act False\n",
            "107 block12_sepconv1 False\n",
            "108 block12_sepconv1_bn False\n",
            "109 block12_sepconv2_act False\n",
            "110 block12_sepconv2 False\n",
            "111 block12_sepconv2_bn False\n",
            "112 block12_sepconv3_act False\n",
            "113 block12_sepconv3 False\n",
            "114 block12_sepconv3_bn False\n",
            "115 add_10 False\n",
            "116 block13_sepconv1_act False\n",
            "117 block13_sepconv1 False\n",
            "118 block13_sepconv1_bn False\n",
            "119 block13_sepconv2_act False\n",
            "120 block13_sepconv2 False\n",
            "121 block13_sepconv2_bn False\n",
            "122 conv2d_3 False\n",
            "123 block13_pool False\n",
            "124 batch_normalization_3 False\n",
            "125 add_11 False\n",
            "126 block14_sepconv1 True\n",
            "127 block14_sepconv1_bn False\n",
            "128 block14_sepconv1_act True\n",
            "129 block14_sepconv2 True\n",
            "130 block14_sepconv2_bn False\n",
            "131 block14_sepconv2_act True\n"
          ],
          "name": "stdout"
        }
      ]
    },
    {
      "cell_type": "code",
      "metadata": {
        "colab": {
          "base_uri": "https://localhost:8080/"
        },
        "id": "pcyACUyoY00b",
        "outputId": "fe8cf49e-ffbc-42e2-b850-ab90cb8918e5"
      },
      "source": [
        "model.summary()"
      ],
      "execution_count": 27,
      "outputs": [
        {
          "output_type": "stream",
          "text": [
            "Model: \"sequential\"\n",
            "_________________________________________________________________\n",
            "Layer (type)                 Output Shape              Param #   \n",
            "=================================================================\n",
            "xception (Functional)        (None, 10, 10, 2048)      20861480  \n",
            "_________________________________________________________________\n",
            "global_average_pooling2d (Gl (None, 2048)              0         \n",
            "_________________________________________________________________\n",
            "dropout (Dropout)            (None, 2048)              0         \n",
            "_________________________________________________________________\n",
            "dense (Dense)                (None, 512)               1049088   \n",
            "_________________________________________________________________\n",
            "dropout_1 (Dropout)          (None, 512)               0         \n",
            "_________________________________________________________________\n",
            "dense_1 (Dense)              (None, 256)               131328    \n",
            "_________________________________________________________________\n",
            "dense_2 (Dense)              (None, 7)                 1799      \n",
            "=================================================================\n",
            "Total params: 22,043,695\n",
            "Trainable params: 5,923,847\n",
            "Non-trainable params: 16,119,848\n",
            "_________________________________________________________________\n"
          ],
          "name": "stdout"
        }
      ]
    },
    {
      "cell_type": "code",
      "metadata": {
        "id": "y_O8Xa3VY1iC"
      },
      "source": [
        "lr = 1e-4\n",
        "model.compile(optimizer=keras.optimizers.RMSprop(learning_rate=lr), loss='categorical_crossentropy', metrics=['accuracy'])"
      ],
      "execution_count": 28,
      "outputs": []
    },
    {
      "cell_type": "code",
      "metadata": {
        "id": "tNuvG-wNY_rz"
      },
      "source": [
        "n_epochs = 40\n",
        "history = model.fit(train_datagen,\n",
        "                             steps_per_epoch=len(train_datagen.filenames)//training_batch_size,\n",
        "                             epochs=n_epochs,\n",
        "                             validation_data=val_datagen,\n",
        "                             validation_steps=int(np.ceil(len(val_datagen.filenames)/validation_batch_size)),\n",
        "                             callbacks=callbacks_list,\n",
        "                             verbose=1)"
      ],
      "execution_count": null,
      "outputs": []
    },
    {
      "cell_type": "code",
      "metadata": {
        "colab": {
          "base_uri": "https://localhost:8080/"
        },
        "id": "xSyI2ysjmUjI",
        "outputId": "839c0276-71d3-4690-890f-51c5b368380f"
      },
      "source": [
        "POKEMON_SAVED_MODEL = \"/content/drive/MyDrive/exp_saved_model\"\n",
        "tf.saved_model.save(model, POKEMON_SAVED_MODEL)"
      ],
      "execution_count": 37,
      "outputs": [
        {
          "output_type": "stream",
          "text": [
            "INFO:tensorflow:Assets written to: /content/drive/MyDrive/exp_saved_model/assets\n"
          ],
          "name": "stdout"
        }
      ]
    },
    {
      "cell_type": "markdown",
      "metadata": {
        "id": "skcEjoEPHZ8p"
      },
      "source": [
        "## **Visualize the training process**"
      ]
    },
    {
      "cell_type": "code",
      "metadata": {
        "id": "jAyo6qYiuKqz"
      },
      "source": [
        "visualize_training(history, n_epochs)"
      ],
      "execution_count": null,
      "outputs": []
    },
    {
      "cell_type": "markdown",
      "metadata": {
        "id": "GOYPvoQwHezP"
      },
      "source": [
        "## **Load the saved model**"
      ]
    },
    {
      "cell_type": "code",
      "metadata": {
        "id": "jscDXk2nD90f"
      },
      "source": [
        "loaded_model = load_model('/content/xception-model.h5')"
      ],
      "execution_count": 32,
      "outputs": []
    },
    {
      "cell_type": "code",
      "metadata": {
        "colab": {
          "base_uri": "https://localhost:8080/"
        },
        "id": "W1GOXPbZGOoD",
        "outputId": "489996e4-8ef5-4a9c-d9ff-00345427b2ac"
      },
      "source": [
        "loaded_model.summary()"
      ],
      "execution_count": 33,
      "outputs": [
        {
          "output_type": "stream",
          "text": [
            "Model: \"sequential\"\n",
            "_________________________________________________________________\n",
            "Layer (type)                 Output Shape              Param #   \n",
            "=================================================================\n",
            "xception (Functional)        (None, 10, 10, 2048)      20861480  \n",
            "_________________________________________________________________\n",
            "global_average_pooling2d (Gl (None, 2048)              0         \n",
            "_________________________________________________________________\n",
            "dropout (Dropout)            (None, 2048)              0         \n",
            "_________________________________________________________________\n",
            "dense (Dense)                (None, 512)               1049088   \n",
            "_________________________________________________________________\n",
            "dropout_1 (Dropout)          (None, 512)               0         \n",
            "_________________________________________________________________\n",
            "dense_1 (Dense)              (None, 256)               131328    \n",
            "_________________________________________________________________\n",
            "dense_2 (Dense)              (None, 7)                 1799      \n",
            "=================================================================\n",
            "Total params: 22,043,695\n",
            "Trainable params: 5,923,847\n",
            "Non-trainable params: 16,119,848\n",
            "_________________________________________________________________\n"
          ],
          "name": "stdout"
        }
      ]
    },
    {
      "cell_type": "markdown",
      "metadata": {
        "id": "PD81PQxgHjY3"
      },
      "source": [
        "## **Evaluate the model**"
      ]
    },
    {
      "cell_type": "code",
      "metadata": {
        "colab": {
          "base_uri": "https://localhost:8080/"
        },
        "id": "ZGtKLewtvj8W",
        "outputId": "5d0168d2-58f6-4c62-fba2-0cefd3c007c1"
      },
      "source": [
        "_, evaluate_datagen = get_images(299, preprocessing= xception.preprocess_input)"
      ],
      "execution_count": 34,
      "outputs": [
        {
          "output_type": "stream",
          "text": [
            "Found 657 images belonging to 7 classes.\n",
            "Found 171 images belonging to 7 classes.\n"
          ],
          "name": "stdout"
        }
      ]
    },
    {
      "cell_type": "code",
      "metadata": {
        "colab": {
          "base_uri": "https://localhost:8080/"
        },
        "id": "E9icgd-BwdFx",
        "outputId": "abe762b0-4aa2-455a-f9e3-dfa6ccdb455f"
      },
      "source": [
        "model_result = loaded_model.evaluate(\n",
        "    evaluate_datagen,\n",
        "    steps= None)"
      ],
      "execution_count": 35,
      "outputs": [
        {
          "output_type": "stream",
          "text": [
            "/usr/local/lib/python3.7/dist-packages/PIL/Image.py:960: UserWarning: Palette images with Transparency expressed in bytes should be converted to RGBA images\n",
            "  \"Palette images with Transparency expressed in bytes should be \"\n"
          ],
          "name": "stderr"
        },
        {
          "output_type": "stream",
          "text": [
            "11/11 [==============================] - 4s 251ms/step - loss: 0.2386 - accuracy: 0.9415\n"
          ],
          "name": "stdout"
        }
      ]
    },
    {
      "cell_type": "markdown",
      "metadata": {
        "id": "oUGkieYQHo8R"
      },
      "source": [
        "## **Classification Report**"
      ]
    },
    {
      "cell_type": "code",
      "metadata": {
        "colab": {
          "base_uri": "https://localhost:8080/"
        },
        "id": "oAw_hvRoG8Mb",
        "outputId": "51ffde54-0972-42c5-87ac-1ef41eb650bc"
      },
      "source": [
        "print_classification_report(loaded_model, evaluate_datagen,  validation_batch_size)"
      ],
      "execution_count": 36,
      "outputs": [
        {
          "output_type": "stream",
          "text": [
            "/usr/local/lib/python3.7/dist-packages/PIL/Image.py:960: UserWarning: Palette images with Transparency expressed in bytes should be converted to RGBA images\n",
            "  \"Palette images with Transparency expressed in bytes should be \"\n"
          ],
          "name": "stderr"
        },
        {
          "output_type": "stream",
          "text": [
            "              precision    recall  f1-score   support\n",
            "\n",
            "           0       0.93      1.00      0.96        26\n",
            "           1       0.88      0.96      0.92        24\n",
            "           2       1.00      0.85      0.92        26\n",
            "           3       0.96      0.96      0.96        23\n",
            "           4       1.00      0.97      0.98        30\n",
            "           5       0.83      1.00      0.91        20\n",
            "           6       1.00      0.86      0.93        22\n",
            "\n",
            "    accuracy                           0.94       171\n",
            "   macro avg       0.94      0.94      0.94       171\n",
            "weighted avg       0.95      0.94      0.94       171\n",
            "\n",
            "Confusion Matrix:\n",
            "  [[26  0  0  0  0  0  0]\n",
            " [ 0 23  0  0  0  1  0]\n",
            " [ 0  1 22  0  0  3  0]\n",
            " [ 0  1  0 22  0  0  0]\n",
            " [ 0  1  0  0 29  0  0]\n",
            " [ 0  0  0  0  0 20  0]\n",
            " [ 2  0  0  1  0  0 19]]\n"
          ],
          "name": "stdout"
        }
      ]
    }
  ]
}